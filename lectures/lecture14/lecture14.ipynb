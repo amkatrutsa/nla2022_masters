{
 "cells": [
  {
   "cell_type": "markdown",
   "metadata": {
    "slideshow": {
     "slide_type": "slide"
    }
   },
   "source": [
    "# Лекция 14. Матричные функции. Введение в рандомизированные методы линейной алгебры"
   ]
  },
  {
   "cell_type": "markdown",
   "metadata": {
    "slideshow": {
     "slide_type": "slide"
    }
   },
   "source": [
    "## На прошлой лекции\n",
    "\n",
    "- Свёртка и преобразование Фурье\n",
    "- Тёплицевы матрицы, циркулянты\n",
    "- Алгоритм быстрого преобразования Фурье\n",
    "- Введение в свёрточные нейронные сети"
   ]
  },
  {
   "cell_type": "markdown",
   "metadata": {
    "slideshow": {
     "slide_type": "slide"
    }
   },
   "source": [
    "## План на сегодня\n",
    "\n",
    "- Матричные функции\n",
    "- Матричная экспонента \n",
    "- Алгоритмы вычисления матричных функций\n",
    "- Рандомизированные методы\n",
    "\n",
    "Книга по теме: [Functions of matrices by Nick Higham](http://www.google.ru/books?hl=ru&lr=&id=2Wz_zVUEwPkC&oi=fnd&pg=PR3&dq=Higham+matrix+function&ots=pTt6fpLGRX&sig=DgUuX-SpBZGin8CFUo-4MYnOcHE&redir_esc=y#v=onepage&q=Higham%20matrix%20function&f=false)"
   ]
  },
  {
   "cell_type": "markdown",
   "metadata": {
    "slideshow": {
     "slide_type": "slide"
    }
   },
   "source": [
    "## Простейшая матричная функция: матричный полином\n",
    "\n",
    "Матричный полином имеет очень простой вид\n",
    "\n",
    "$$ P(A) = \\sum_{k=0}^n c_k A^k. $$\n",
    "\n",
    "[Теорема Гамильтона-Кэли](https://ru.wikipedia.org/wiki/%D0%A2%D0%B5%D0%BE%D1%80%D0%B5%D0%BC%D0%B0_%D0%93%D0%B0%D0%BC%D0%B8%D0%BB%D1%8C%D1%82%D0%BE%D0%BD%D0%B0_%E2%80%94_%D0%9A%D1%8D%D0%BB%D0%B8) утверждает, что $F(A) = 0$ где $F(\\lambda) = \\det(A - \\lambda I)$."
   ]
  },
  {
   "cell_type": "markdown",
   "metadata": {
    "slideshow": {
     "slide_type": "slide"
    }
   },
   "source": [
    "## Матричный полином как способ построения любой матричной фугнкции\n",
    "\n",
    "Можно определить функцию от матрицы с помощью ряда Тейлора:  \n",
    "\n",
    "$$ f(A) = \\sum_{k=0}^{\\infty} c_k A^k. $$\n",
    "\n",
    "Сходимость означает как сходимость в некоторой **матричной норме**.  \n",
    "\n",
    "Примером такого ряда является ряд Неймана\n",
    "\n",
    "$$ (I - F)^{-1} = \\sum_{k=0}^{\\infty} F^k, $$\n",
    "\n",
    "который определён для $\\rho(F) < 1$."
   ]
  },
  {
   "cell_type": "markdown",
   "metadata": {
    "slideshow": {
     "slide_type": "slide"
    }
   },
   "source": [
    "## Ряд для матричной экспоненты\n",
    "\n",
    "Наиболее известной матричной функцией является **матричная экспонента**. В скалярном случае ряд выглядит следующим образом  \n",
    "\n",
    "$$ e^x = 1 + x + \\frac{x^2}{2} + \\frac{x^3}{6} + \\ldots = \\sum_{k=0}^{\\infty} \\frac{x^k}{k!}, $$\n",
    "\n",
    "и он напрямую обобщается на матричный случай:  \n",
    "\n",
    "$$ e^A = \\sum_{k=0}^{\\infty} \\frac{A^k}{k!}. $$\n",
    "\n",
    "Этот ряд всегда сходится, так как выполнено следующее равенство\n",
    "\n",
    "$$\\sum_{k=0}^{\\infty} \\frac{\\Vert A \\Vert^k}{k!} = e^{\\Vert A \\Vert}.$$"
   ]
  },
  {
   "cell_type": "markdown",
   "metadata": {
    "slideshow": {
     "slide_type": "slide"
    }
   },
   "source": [
    "## Почему матричная экспонента важна?\n",
    "\n",
    "Огромное количество прикладных задач сводится к системе обыкновенных дифференциальных уравнений вида\n",
    "\n",
    "$$ \\frac{dy}{dt} = Ay, \\quad y(0) = y_0. $$\n"
   ]
  },
  {
   "cell_type": "markdown",
   "metadata": {
    "slideshow": {
     "slide_type": "slide"
    }
   },
   "source": [
    "## Обыкновенные дифференциальные уравнения и матричная экспонента\n",
    "\n",
    "- Дано уравнение\n",
    "\n",
    "$$\\frac{dy}{dt} = Ay, \\quad y(0) = y_0.$$\n",
    "\n",
    "- Формально решение задаётся выражением $y(t) = e^{At} y_0$, поэтому если известна $e^{At}$ (или мы можем быстро умножить матричную экспоненту на вектор), то решение можно получить гораздо быстрее по сравнению с методами, основанными на шагах по времени  \n",
    "- Действительно,\n",
    "\n",
    "$$\\frac{d}{dt} e^{At} = \\frac{d}{dt} \\sum_{k=0}^{\\infty} \\frac{t^k A^k}{k!} = \\sum_{k=1}^{\\infty} \\frac{t^{k-1} A^{k}}{(k-1)!}  = A e^{At}.$$"
   ]
  },
  {
   "cell_type": "markdown",
   "metadata": {
    "slideshow": {
     "slide_type": "slide"
    }
   },
   "source": [
    "## Матричная экспонента и шаги по времени\n",
    "\n",
    "Матричная экспонента может быть гораздо лучше, чем решение с помощью, например, схемы Эйлера:\n",
    "\n",
    "$$\\frac{dy}{dt} \\approx \\frac{y_{k+1} - y_k}{\\tau} = A y_k, \\quad y_{k+1} = y_k + \\tau A y_k,$$\n",
    "\n",
    "если мы знаем как вычислить произведение матричной экспоненты на вектор, используя только произведения матрицы $A$ на вектор.\n",
    "\n",
    "Для плотных матриц матричная экспонента даёт **точный** ответ для ОДУ в любой момент времени $t$ по сравнению с приближённым решением, полученным из схемы Эйлера или схожих подходов."
   ]
  },
  {
   "cell_type": "markdown",
   "metadata": {
    "slideshow": {
     "slide_type": "slide"
    }
   },
   "source": [
    "## Как вычислять матричные функции, включая матричную экспоненту?\n",
    "\n",
    "- Существует очень много методов даже для матричной экспоненты!\n",
    "\n",
    "- См. статью [C. Van Loan, C. Moler, Nineteen Dubious Ways to Compute the Exponential of a Matrix, Twenty-Five Years Later](http://www.cs.cornell.edu/cv/researchpdf/19ways+.pdf)\n",
    "\n",
    "- Самый простой метод – это диагонализация матрицы:  \n",
    "\n",
    "$$ A = S \\Lambda S^{-1}, $$\n",
    "\n",
    "где столбцы $S$ – собственные векторы матрицы $A$, тогда\n",
    "\n",
    "$$ F(A) = S F(\\Lambda) S^{-1}. $$\n",
    "\n",
    "**Проблема: диагонализация неустойчива!** (и не любая матрица диагонализуема)\n",
    "\n",
    "Далее короткое демо"
   ]
  },
  {
   "cell_type": "code",
   "execution_count": 1,
   "metadata": {
    "slideshow": {
     "slide_type": "slide"
    }
   },
   "outputs": [
    {
     "name": "stdout",
     "output_type": "stream",
     "text": [
      "[[1.e+00 1.e+00 0.e+00 0.e+00]\n",
      " [0.e+00 1.e+00 1.e+00 0.e+00]\n",
      " [0.e+00 0.e+00 1.e+00 1.e+00]\n",
      " [0.e+00 0.e+00 1.e-04 1.e+00]]\n",
      "16384.000030517578\n",
      "[[1.00000000e+00 0.00000000e+00 9.09494702e-13 1.63840000e+04]\n",
      " [0.00000000e+00 1.00000000e+00 1.00000000e+00 0.00000000e+00]\n",
      " [0.00000000e+00 0.00000000e+00 1.00000000e+00 1.00000000e+00]\n",
      " [0.00000000e+00 0.00000000e+00 1.00000000e-04 1.00000000e+00]]\n"
     ]
    }
   ],
   "source": [
    "import numpy as np\n",
    "eps = 1e-4\n",
    "p = 4\n",
    "a = np.eye(p)\n",
    "for i in range(p-1):\n",
    "    a[i, i+1] = 1\n",
    "    \n",
    "a[p-1, 2] = eps\n",
    "print(a)\n",
    "val, vec = np.linalg.eig(a)\n",
    "#print a\n",
    "print(np.linalg.norm(a - vec.dot(val[:, np.newaxis] * np.linalg.inv(vec))))\n",
    "#print 'S * D * S^{-1}:' \n",
    "print(vec.dot(val[:, np.newaxis] * np.linalg.inv(vec)))"
   ]
  },
  {
   "cell_type": "markdown",
   "metadata": {
    "slideshow": {
     "slide_type": "slide"
    }
   },
   "source": [
    "Сейчас мы вычислим матричную экспоненту с помощью диагонализации от **возмущённой Жордановой клетки**."
   ]
  },
  {
   "cell_type": "code",
   "execution_count": 2,
   "metadata": {
    "slideshow": {
     "slide_type": "slide"
    }
   },
   "outputs": [
    {
     "name": "stdout",
     "output_type": "stream",
     "text": [
      "2.0\n",
      "Difference = 5.959978842992802\n"
     ]
    }
   ],
   "source": [
    "import numpy as np\n",
    "eps = 1e-16\n",
    "p = 5\n",
    "a = np.eye(p)\n",
    "for i in range(p-1):\n",
    "    a[i, i+1] = 1\n",
    "    \n",
    "a[p-1, 0] = eps\n",
    "a = np.array(a)\n",
    "val, vec = np.linalg.eig(a)\n",
    "print(np.linalg.norm(a - vec.dot(np.diag(val)).dot(np.linalg.inv(vec))))\n",
    "\n",
    "fun = lambda x: np.exp(x)\n",
    "\n",
    "#Using diagonalization\n",
    "fun_diag = vec.dot(np.diag(fun(val))).dot(np.linalg.inv(vec))\n",
    "\n",
    "\n",
    "#Using Schur\n",
    "import scipy.linalg\n",
    "fun_m = scipy.linalg.expm(a)\n",
    "print('Difference = {}'.format(np.linalg.norm(fun_m - fun_diag)))"
   ]
  },
  {
   "cell_type": "markdown",
   "metadata": {
    "slideshow": {
     "slide_type": "slide"
    }
   },
   "source": [
    "## Как работает функция ```funm```?\n",
    "\n",
    "- Матричная экспонента – это особая функция, и для её вычисления существуют специальные методы.  \n",
    "\n",
    "- Для произвольной функции $F$, есть замечательный **алгоритм Шура-Парлетта**, который основан для **теореме Шура**"
   ]
  },
  {
   "cell_type": "markdown",
   "metadata": {
    "slideshow": {
     "slide_type": "slide"
    }
   },
   "source": [
    "## Алгоритм Шура-Парлетта\n",
    "\n",
    "- Для данной матрицы $A$ мы хотим вычислить $F(A)$, и можем вычислить $F$ только в **скалярных точках**\n",
    "\n",
    "- Сначала сведём матрицу $A$ к **треугольной форме**  \n",
    "\n",
    "$$ A = U T U^*. $$\n",
    "\n",
    "- Поэтому  $F(A)=U F(T) U^*$\n",
    "\n",
    "- Нам осталось вычислить функцию от треугольной матрицы."
   ]
  },
  {
   "cell_type": "markdown",
   "metadata": {
    "slideshow": {
     "slide_type": "slide"
    }
   },
   "source": [
    "## Вычисление функции от треугольных матриц\n",
    "\n",
    "- Мы знаем значения на диагоналях\n",
    "\n",
    "$$ F_{ii} = F(T_{ii}), $$\n",
    "\n",
    "также мы знаем, что\n",
    "\n",
    "$$ F T = T F, $$\n",
    "\n",
    "то есть значение матричной функции **коммутирует** с самой матрицей. \n",
    "\n",
    "- Матричная функция от треугольной матрицы есть треугольная матрица.\n",
    "- Используя известные значения на главной диагонали и свойство коммутативности, мы получим последовательно остальные диагонали:\n",
    "\n",
    "$$f_{ij} = t_{ij} \\frac{f_{ii} - f_{jj}}{t_{ii} - t_{jj}} + \\sum_{k=i+1}^{j-1} \\frac{f_{ik} t_{kj} - t_{ki}f_{kj}}{t_{ii} - t_{jj}}.$$"
   ]
  },
  {
   "cell_type": "markdown",
   "metadata": {
    "slideshow": {
     "slide_type": "slide"
    }
   },
   "source": [
    "## Матричные функции: ещё одно определение\n",
    "\n",
    "- Одним из способов определение матричной функции $f(A)$ является использование **канонической формы Жордана**.\n",
    "\n",
    "- Более элегантный способ определить матричные функции – это использовать **интегральное представление Коши:**\n",
    "\n",
    "$$\n",
    "    f(A) = \\frac{1}{2\\pi i} \\int_{\\Gamma} f(z) (zI - A)^{-1} dz,\n",
    "$$\n",
    "\n",
    "где $f(z)$ аналитическая функция на границе и внутри замкнутого контура $\\Gamma$, который покрывает спектр матрицы $A$.\n",
    "\n",
    "- Определение можно обобщить на случай **операторов**"
   ]
  },
  {
   "cell_type": "markdown",
   "metadata": {
    "slideshow": {
     "slide_type": "slide"
    }
   },
   "source": [
    "## Важные матричные функции\n",
    "\n",
    "- Матричная экспонента используется для решения ОДУ $\\frac{dy}{dt} = Ay$ в явном виде $y = e^{At}y_0.$\n",
    "- $\\cos(A), \\sin(A)$ используются для решения волнового уравнения $\\frac{d^2 y}{dt^2} + Ay = 0.$\n",
    "- Функция знака, $\\mathrm{sign}(A)$, используется для вычисления **спектральных проекций.**\n",
    "- Обратный квадратный корень из матрицы $A^{-1/2}$ необходим в различных задачах, например, для генерирования сэмплов из нормального распределения"
   ]
  },
  {
   "cell_type": "markdown",
   "metadata": {
    "slideshow": {
     "slide_type": "slide"
    }
   },
   "source": [
    "## И снова матричная экспонента\n",
    "\n",
    "- Матричная функция задаётся следующим рядом:\n",
    "\n",
    "$$e^A = I + A + \\frac{1}{2} A^2 + \\frac{1}{3!} A^3 + \\ldots$$\n",
    "\n",
    "- Использовать этот ряд для вычисления – плохая идея (даже для скалярного случая, почему?)"
   ]
  },
  {
   "cell_type": "code",
   "execution_count": 16,
   "metadata": {
    "slideshow": {
     "slide_type": "slide"
    }
   },
   "outputs": [
    {
     "name": "stdout",
     "output_type": "stream",
     "text": [
      "Error in the exponent: 65220007.32064143\n"
     ]
    }
   ],
   "source": [
    "import numpy as np\n",
    "\n",
    "x = -30.0 #Point\n",
    "k = 1000000 #Number of terms\n",
    "b = 1.0\n",
    "x0 = x\n",
    "for i in range(1, k):\n",
    "    b += x0\n",
    "    x0 *= x/(i+1)\n",
    "    \n",
    "print('Error in the exponent: {}'.format((b - np.exp(x))/np.exp(x)))"
   ]
  },
  {
   "cell_type": "markdown",
   "metadata": {
    "slideshow": {
     "slide_type": "slide"
    }
   },
   "source": [
    "## Сходимость ряда\n",
    "\n",
    "- Сходимость ряда для матричной экспоненты может быть медленной для больших значений $x$ (то есть для большой нормы матрицы).\n",
    "\n",
    "- Что мы можем сделать?"
   ]
  },
  {
   "cell_type": "markdown",
   "metadata": {
    "slideshow": {
     "slide_type": "slide"
    }
   },
   "source": [
    "## Использовать Крыловские пространства\n",
    "\n",
    "- Мы можем использовать идею Крыловских методов: с помощью метода Арнольди генерировать ортогональный базис в Крыловском подпространстве и вычислить (это можно делать в общем случае для любой функции)\n",
    "\n",
    "$$ f(A)v \\approx f(Q H Q^*)v = Q f(H) Q^*v,$$\n",
    "\n",
    "где $H$ небольшая верхне-Гессенбергова матрица, для вычисления функции от которой мы можем использовать, например **алгоритм Шура-Парлетта**\n",
    "\n",
    "- Сходимость Крыловского метода может быть очень медленной, так как по сути это **полиномиальная аппроксимация** матричной функции.\n",
    "\n",
    "- А сходимость полиномиальной аппроксимации может быть **очень медленной**\n",
    "\n",
    "- **Идея:** заменить полиномы рациональными функциями!"
   ]
  },
  {
   "cell_type": "markdown",
   "metadata": {
    "slideshow": {
     "slide_type": "slide"
    }
   },
   "source": [
    "## Аппроксимация Паде\n",
    "\n",
    "- Матричная экспонента хорошо приближается **рациональными функциями**:  \n",
    "\n",
    "$$\n",
    "\\exp(x) \\approx \\frac{p(x)}{q(x)},\n",
    "$$\n",
    "\n",
    "где $p(x)$ и $q(x)$ полиномы, тогда вычисление рациональной матричной функции сводится к **матричным произведениям** и **обращаениям матриц**\n",
    "\n",
    "- Рациональная функция также удобна в случае, когда необходимо вычислить только произведение матричной экспоненты на вектор, поскольку вычисление в этом случае сводится к **умножению матрицы на вектор** и **решению систем линейных уравнений**"
   ]
  },
  {
   "cell_type": "code",
   "execution_count": 13,
   "metadata": {
    "slideshow": {
     "slide_type": "slide"
    }
   },
   "outputs": [
    {
     "data": {
      "image/png": "[encoded data removed]",
      "text/plain": [
       "<Figure size 432x288 with 1 Axes>"
      ]
     },
     "metadata": {
      "needs_background": "light"
     },
     "output_type": "display_data"
    }
   ],
   "source": [
    "#Computing Pade approximant\n",
    "import numpy as np\n",
    "import mpmath\n",
    "%matplotlib inline\n",
    "from mpmath import pade, taylor, polyval\n",
    "import matplotlib.pyplot as plt\n",
    "x = np.linspace(-5, -1, 128)\n",
    "a = taylor(mpmath.exp, 0, 20) #Taylor series\n",
    "k1 = 10\n",
    "k2 = 10\n",
    "p, q = pade(a, k1, k2) #Pade approximant\n",
    "plt.plot(x, polyval(p[::-1], x)/polyval(q[::-1], x) - np.exp(x), label=\"Pade\")\n",
    "plt.semilogy(x, polyval(a[::-1], x) - np.exp(x), label=\"Taylor\")\n",
    "plt.legend()\n",
    "_ = plt.title('Error of the Pade of order {0:d}/{1:d}'.format(k1, k2) )"
   ]
  },
  {
   "cell_type": "markdown",
   "metadata": {
    "slideshow": {
     "slide_type": "slide"
    }
   },
   "source": [
    "## Алгоритм scaling & squaring \n",
    "\n",
    "Канонический алгоритм вычисления матричной экспоненты опирается на масштабирование (scaling) матрицы $A$:\n",
    "\n",
    "$$\\exp(A) = \\exp(A/2^k)^{(2^k)}.$$\n",
    "\n",
    "В этом случае матрица имеет малую норму, что приводит к следующему алгоритму:\n",
    "\n",
    "- Получить матрицу $B := A/2^k$ с нормой меньше 1 – шаг scaling\n",
    "- Вычислить матричную экспоненту $C = e^B$ с помощью аппроксимации Паде\n",
    "- Получить $e^A \\approx C^{(2^k)}$ с помощью $k$ матричных произведений – шаг squaring"
   ]
  },
  {
   "cell_type": "markdown",
   "metadata": {
    "slideshow": {
     "slide_type": "slide"
    }
   },
   "source": [
    "## Матричная экспонента для матриц большой размерности\n",
    "\n",
    "- Для матриц большого размера нельзя использовать алгоритм scaling-squaring, так как в нём надо работать с плотными матрицами, поэтому мы можем использовать Крыловские методы или (что лучше) **рациональные** Крыловские методы\n",
    "\n",
    "- Идея рациональных Крыловских методов опирается на идею рациональной аппроксимации вместо полиномиальной\n",
    "\n",
    "- Обычные Крыловские методы опираются на полиномиальную аппроксимацию"
   ]
  },
  {
   "cell_type": "markdown",
   "metadata": {
    "slideshow": {
     "slide_type": "slide"
    }
   },
   "source": [
    "## Рациональные Крыловские подпространства\n",
    "\n",
    "- Простой и эффективный подход основан на, так называемых, **расширенных Крыловских подпространствах**:\n",
    "\n",
    "$$KE(A, b) = \\mathrm{Span}(\\ldots, A^{-2} b, A^{-1} b, b, A b, A^2 b, \\ldots)$$\n",
    "\n",
    "- На каждом шаге добавляется векторы вида $A w$ и $A^{-1} w$ в подпространство и результат ортогонализуется (**рациональный метод Арнольди**).\n",
    "\n",
    "- То есть нам нужно только решить одну линейную систему на каждом шаге, но если матрица не меняется её можно один раз факторизовать и использовать факторизацию на всех последующих итерациях."
   ]
  },
  {
   "cell_type": "markdown",
   "metadata": {
    "slideshow": {
     "slide_type": "slide"
    }
   },
   "source": [
    "## Рациональный Крыловский метод\n",
    "\n",
    "Рациональные Крыловские методы являются наиболее эффективными для вычисления произведения матричной функции на вектор:\n",
    "\n",
    "- Построим ортогональный базис в пространстве\n",
    "\n",
    "$$KE(A, b) = \\mathrm{Span}(\\ldots, A^{-2} b, A^{-1} b, b, A b, A^2 b, \\ldots)$$\n",
    "\n",
    "- И вычислим\n",
    "\n",
    "$$f(A)b \\approx Q f(H) Q^*b,$$\n",
    "\n",
    "где $H = Q^* A Q.$\n",
    "\n",
    "Этот метод требует одного решения линейной системы и умножения матрицы на вектор на каждой итерации."
   ]
  },
  {
   "cell_type": "markdown",
   "metadata": {
    "slideshow": {
     "slide_type": "slide"
    }
   },
   "source": [
    "## Обратный квадратный корень матрицы\n",
    "\n",
    "- Обратный квадратный корень матрицы $A^{-1/2}$ – полезная матричная функция.\n",
    "\n",
    "- Многомерное нормальное распределение с ковариационной матрицей $A = A^* > 0$ задаётся с помощью \n",
    "\n",
    "$$e^{A^{-1} x, x}.$$\n",
    "\n",
    "- Пусть $x$ вектор большой размерности (миллионы), как сгенерировать сэмпл из нормального распределения с данной **структурированной** ковариационной матрицей $A$?\n",
    "\n",
    "- Простейший алгоритм – это сгенерировать вектор $y$ из стандартного нормального распределения, а затем вычислить \n",
    "\n",
    "$$x = A^{-\\frac{1}{2}} y.$$\n",
    "\n",
    "- Таким образом, вектор $x$ будет из соответствующего распределения.\n",
    "\n",
    "- Рациональные Крыловские подпространства особо эффективны для вычисления квадратного корня из матрицы"
   ]
  },
  {
   "cell_type": "markdown",
   "metadata": {
    "slideshow": {
     "slide_type": "slide"
    }
   },
   "source": [
    "## Применение к вычислению расстояний между многообразиями\n",
    "\n",
    "- Представим два многообразия $\\mathcal{M}$ и $\\mathcal{N}$ как облака точек\n",
    "- Построим два графа из этих облаков точек\n",
    "- Для каждого графа можно построить свой Лапласиан ($L_{\\mathcal{M}}$ и $L_{\\mathcal{N}}$) (вспомните лекцию о векторе Фидлера!)\n",
    "- Heat kernel trace \n",
    "\n",
    "$$\\mathrm{hkt}_{\\mathcal{M}}(t) = \\mathrm{trace}(\\exp(-t L_{\\mathcal{M}}))$$\n",
    "\n",
    "содержит всю информацию о спектре графа\n",
    "\n",
    "- Расстояние Громова-Вассерштайна между многообразиями $\\mathcal{M}$ и $\\mathcal{N}$:\n",
    "\n",
    "$$d_{GW}(\\mathcal{M}, \\mathcal{N}) \\geq \\sup_{t > 0} \\exp(-2(t + t^{-1}))|\\mathrm{hkt}_{\\mathcal{M}}(t) - \\mathrm{hkt}_{\\mathcal{N}}(t)|$$"
   ]
  },
  {
   "cell_type": "markdown",
   "metadata": {
    "slideshow": {
     "slide_type": "slide"
    }
   },
   "source": [
    "### Стохастическая оценка следа\n",
    "\n",
    "- Hutchinson [предложил](https://www.tandfonline.com/doi/abs/10.1080/03610919008812866) следующий метод для оценки следа матрицы\n",
    "\n",
    "$$ \\mathrm{trace}(A) = \\mathbb{E}_{p(x)}(x^{\\top}Ax), $$\n",
    "\n",
    "где $p(x)$ некоторое распределение с нулевым средним и единичной дисперсией, например стандартное нормальное распределение или распределение Радемахера\n",
    "\n",
    "- Для оценки следа нам нужно уметь быстро умножать матрицу на вектор!\n",
    "- И тут рациональные Крыловские подпространства вступают в игру, так как $\\mathrm{hkt}$ требует вычисления следа от матричной экспоненты"
   ]
  },
  {
   "cell_type": "markdown",
   "metadata": {
    "slideshow": {
     "slide_type": "slide"
    }
   },
   "source": [
    "### Расстояние между языками ([картинка из статьи](https://openreview.net/pdf?id=HyebplHYwB))\n",
    "\n",
    "<img src=\"./gw_matexp.png\">"
   ]
  },
  {
   "cell_type": "markdown",
   "metadata": {
    "slideshow": {
     "slide_type": "slide"
    }
   },
   "source": [
    "## Для каких задач рандомизированные методы также могут помочь?\n",
    "\n",
    "- SVD\n",
    "- Решение линейных систем\n",
    "- Умножение матриц"
   ]
  },
  {
   "cell_type": "markdown",
   "metadata": {
    "slideshow": {
     "slide_type": "slide"
    }
   },
   "source": [
    "## Рандомизированный метод вычисления SVD ([Halko et al, 2011](https://epubs.siam.org/doi/pdf/10.1137/090771806?casa_token=isi3yX3QdPEAAAAA:j-7Qk87vS0kjKqGMLYeX3xg4QxqqyM8s4wn-XGX-SLOS2BRChFDRTPX-x9Hf7ltfuZYg9xsA0zksw1U))\n",
    "\n",
    "- Напомним постановку задачи\n",
    "\n",
    "$$ A \\approx U\\Sigma V^\\top, $$\n",
    "\n",
    "где $A$ размера $m \\times n$, $U$ размера $m \\times k$ и $V$ размера $n \\times k$.\n",
    "\n",
    "- Мы уже показывали ранее, что сложность вычисления приближения ранга $k$ составляет $O(mnk)$\n",
    "- Как можно уменьшить эту сложность?"
   ]
  },
  {
   "cell_type": "markdown",
   "metadata": {
    "slideshow": {
     "slide_type": "slide"
    }
   },
   "source": [
    "- Пусть мы знаем ортогональную матрицу $Q$ размера $m \\times k$ такую что\n",
    "\n",
    "$$A \\approx Q Q^{\\top}A $$\n",
    "\n",
    "- Другими словами столбцы $Q$ являются базисом в пространстве столбцом матрицы $A$\n",
    "- Тогда следующие детерминированные шаги помогут вычислить факторы $U$, $\\Sigma$ и $V$, соответствующие факторам из SVD для матрицы $A$\n",
    "    - Сформировать $k \\times n$ матрицц $B = Q^{\\top}A$\n",
    "    - Вычислить SVD от матрицы $B = \\hat{U}\\Sigma V^{\\top}$ небольшого размера\n",
    "    - Обновить левые сингулярные векторы $U = Q\\hat{U}$\n",
    "    \n",
    "- Если $k \\ll \\min(m, n)$ тогда эти шаги можно выполнить быстро\n",
    "- Если $Q$ образует точный базис в пространстве столбцов матрицы $A$, тогда $U$, $\\Sigma$ и $V$ также являются точными факторами из SVD исходной матрицы!\n",
    "- Итак, как сгенерировать матрицу $Q$?"
   ]
  },
  {
   "cell_type": "markdown",
   "metadata": {
    "slideshow": {
     "slide_type": "slide"
    }
   },
   "source": [
    "### Рандомизированное приближение базиса в пространсте столбцов матрицы $A$\n",
    "\n",
    "- Основной подход\n",
    "    - Сгенерировать $k + p$ случайных гауссовых векторов размерности $m$ и сформировать матрицу $G$\n",
    "    - Вычислить $Y = AG$\n",
    "    - Вычислить QR разложение $Y$ и использовать матрицу $Q$ как аппроксимацию базиса\n",
    "- Параметр $p$ называется параметров сэмплирования и необходим для повышения точности приближения ведущих $k$ левых сингулярных вектров в дальнейших преобразованиях\n",
    "- Вычисление $Y$ может выполнено параллельно\n",
    "- Нам нужна только функция умножения матрицы на вектор, а не сами элементы матрицы – вспомните про концепцию чёрного ящика!\n",
    "- Вместо гауссовой случайной матрицы можно использовать более структурированные, но по-прежнему случайные матрицы, что позволит выполнить умножение на $A$ быстрее"
   ]
  },
  {
   "cell_type": "code",
   "execution_count": 107,
   "metadata": {
    "slideshow": {
     "slide_type": "slide"
    }
   },
   "outputs": [
    {
     "name": "stdout",
     "output_type": "stream",
     "text": [
      "Error from randomized SVD 1406.5506347825522\n",
      "Error from exact SVD 1206.4459662873328\n"
     ]
    },
    {
     "data": {
      "image/png": "[encoded data removed]",
      "text/plain": [
       "<Figure size 432x288 with 1 Axes>"
      ]
     },
     "metadata": {
      "needs_background": "light"
     },
     "output_type": "display_data"
    }
   ],
   "source": [
    "import numpy as np\n",
    "\n",
    "n = 1000\n",
    "k = 100\n",
    "m = 200\n",
    "# Lowrank matrix\n",
    "A = np.random.randn(n, k)\n",
    "B = np.random.randn(k, m)\n",
    "A = A @ B\n",
    "\n",
    "# Random matrix\n",
    "# A = np.random.randn(n, m)\n",
    "\n",
    "def randomized_svd(A, rank, p):\n",
    "    m, n = A.shape\n",
    "    G = np.random.randn(n, rank + p)\n",
    "    Y = A @ G\n",
    "    Q, _ = np.linalg.qr(Y)\n",
    "    B = Q.T @ A\n",
    "    u, S, V = np.linalg.svd(B)\n",
    "    U = Q @ u\n",
    "    return U, S, V\n",
    "\n",
    "rank = 70\n",
    "p = 20\n",
    "U, S, V = randomized_svd(A, rank, p)\n",
    "print(\"Error from randomized SVD\", np.linalg.norm(A - U[:, :rank] * S[None, :rank] @ V[:rank, :]))\n",
    "plt.semilogy(S[:rank] / S[0], label=\"Random SVD\")\n",
    "u, s, v = np.linalg.svd(A)\n",
    "print(\"Error from exact SVD\", np.linalg.norm(A - u[:, :rank] * s[None, :rank] @ v[:rank, :]))\n",
    "plt.semilogy(s[:rank] / s[0], label=\"Exact SVD\")\n",
    "plt.legend(fontsize=18)\n",
    "plt.xticks(fontsize=16)\n",
    "plt.yticks(fontsize=16)\n",
    "plt.ylabel(\"$\\sigma_i / \\sigma_0$\", fontsize=16)\n",
    "_ = plt.xlabel(\"Index of singular value\", fontsize=16)"
   ]
  },
  {
   "cell_type": "code",
   "execution_count": 111,
   "metadata": {
    "slideshow": {
     "slide_type": "slide"
    }
   },
   "outputs": [
    {
     "name": "stdout",
     "output_type": "stream",
     "text": [
      "9.47 ms ± 172 µs per loop (mean ± std. dev. of 7 runs, 100 loops each)\n",
      "1.65 ms ± 57.4 µs per loop (mean ± std. dev. of 7 runs, 1000 loops each)\n",
      "1.36 ms ± 81 µs per loop (mean ± std. dev. of 7 runs, 1000 loops each)\n"
     ]
    }
   ],
   "source": [
    "import scipy.sparse.linalg as spsplin\n",
    "# !pip install fbpca\n",
    "# More details about Facebook package for computing randomized SVD is here: https://research.fb.com/blog/2014/09/fast-randomized-svd/ \n",
    "import fbpca\n",
    "n = 1000\n",
    "m = 200\n",
    "A = np.random.randn(n, m)\n",
    "k = 10\n",
    "p = 10\n",
    "%timeit spsplin.svds(A, k=k)\n",
    "%timeit randomized_svd(A, k, p)\n",
    "%timeit fbpca.pca(A, k=k, raw=False) "
   ]
  },
  {
   "cell_type": "markdown",
   "metadata": {
    "slideshow": {
     "slide_type": "slide"
    }
   },
   "source": [
    "### Теорема сходимости\n",
    "\n",
    "Усреднённая ошибка аппроксимации с помощью предложенного алгоритма, где $k$ ранг аппроксимации и $p$ параметр сэмплирования:\n",
    "\n",
    "- во фробениусовой норме\n",
    "\n",
    "$$ \\mathbb{E}\\|A - QQ^{\\top}A \\|_F \\leq \\left( 1 + \\frac{k}{p-1} \\right)^{1/2}\\left( \\sum_{j=k+1}^{\\min(m, n)} \\sigma^2_j \\right)^{1/2}  $$\n",
    "\n",
    "- в спектральной норме\n",
    "\n",
    "$$ \\mathbb{E}\\|A - QQ^{\\top}A \\|_2 \\leq \\left( 1 + \\sqrt{\\frac{k}{p-1}} \\right)\\sigma_{k+1} + \\frac{e\\sqrt{k+p}}{p}\\left( \\sum_{j=k+1}^{\\min(m, n)} \\sigma^2_j \\right)^{1/2} $$\n",
    "\n",
    "Матожидание вычисляется по распределению, из которого генерируется случайная матрица $G$ в методе выше.\n",
    "\n",
    "Сравните эти оценки с результатом теоремы Экхарта-Янга. Являются ли эти оценки точными?\n",
    "\n"
   ]
  },
  {
   "cell_type": "markdown",
   "metadata": {
    "slideshow": {
     "slide_type": "slide"
    }
   },
   "source": [
    "## Повышение точности в рандомизированном методе вычисления SVD\n",
    "\n",
    "- Основная идея: степенной метод\n",
    "- Если $A = U \\Sigma V^\\top$, тогда $A^{(q)} = (AA^{\\top})^qA = U \\Sigma^{2q+1}V^\\top $, где $q$ некоторое небольшое натуральное число, например 1 или 2\n",
    "- Тогда мы сэмплируем базис для $A^{(q)}$ а не для $A$\n",
    "\n",
    "$$ Y = (AA^{\\top})^qAG \\qquad Q, R = \\mathtt{qr}(Y) $$\n",
    "\n",
    "- Основная причина: если сингулярные значения $A$ убывали медленно, то сингулярные значения $A^{(q)}$ будут убывать быстрее"
   ]
  },
  {
   "cell_type": "code",
   "execution_count": 115,
   "metadata": {
    "slideshow": {
     "slide_type": "slide"
    }
   },
   "outputs": [
    {
     "data": {
      "image/png": "[encoded data removed]",
      "text/plain": [
       "<Figure size 432x288 with 1 Axes>"
      ]
     },
     "metadata": {
      "needs_background": "light"
     },
     "output_type": "display_data"
    }
   ],
   "source": [
    "n = 1000\n",
    "m = 200\n",
    "A = np.random.randn(n, m)\n",
    "s = np.linalg.svd(A, compute_uv=False)\n",
    "Aq = A @ A.T @ A\n",
    "sq = np.linalg.svd(Aq, compute_uv=False)\n",
    "plt.semilogy(s / s[0], label=\"$A$\")\n",
    "plt.semilogy(sq / sq[0], label=\"$A^{(1)}$\")\n",
    "plt.legend(fontsize=18)\n",
    "plt.xticks(fontsize=16)\n",
    "plt.yticks(fontsize=16)\n",
    "plt.ylabel(\"$\\sigma_i / \\sigma_0$\", fontsize=16)\n",
    "_ = plt.xlabel(\"Index of singular value\", fontsize=16)"
   ]
  },
  {
   "cell_type": "markdown",
   "metadata": {
    "slideshow": {
     "slide_type": "slide"
    }
   },
   "source": [
    "### Потеря точности из-за ошибок округления\n",
    "\n",
    "- Наивное формирование $A^{(q)}$ приводит к росту числа обусловленности и потере точности\n",
    "\n",
    "**Q:** как можно исправить эту проблему?"
   ]
  },
  {
   "cell_type": "markdown",
   "metadata": {
    "slideshow": {
     "slide_type": "fragment"
    }
   },
   "source": [
    "**A:** последовательная ортогонализация!"
   ]
  },
  {
   "cell_type": "code",
   "execution_count": 125,
   "metadata": {
    "slideshow": {
     "slide_type": "slide"
    }
   },
   "outputs": [
    {
     "name": "stdout",
     "output_type": "stream",
     "text": [
      "Error from randomized SVD 286.78254212536973\n",
      "Error from more accurate randomized SVD 250.30918436760263\n",
      "Error from exact SVD 249.43968443603225\n"
     ]
    },
    {
     "data": {
      "image/png": "[encoded data removed]",
      "text/plain": [
       "<Figure size 432x288 with 1 Axes>"
      ]
     },
     "metadata": {
      "needs_background": "light"
     },
     "output_type": "display_data"
    }
   ],
   "source": [
    "def more_accurate_randomized_svd(A, rank, p, q):\n",
    "    m, n = A.shape\n",
    "    G = np.random.randn(n, rank + p)\n",
    "    Y = A @ G\n",
    "    Q, _ = np.linalg.qr(Y)\n",
    "    for i in range(q):\n",
    "        W = A.T @ Q\n",
    "        W, _ = np.linalg.qr(W)\n",
    "        Q = A @ W\n",
    "        Q, _ = np.linalg.qr(Q)\n",
    "    B = Q.T @ A\n",
    "    u, S, V = np.linalg.svd(B)\n",
    "    U = Q @ u\n",
    "    return U, S, V\n",
    "\n",
    "n = 1000\n",
    "m = 200\n",
    "A = np.random.randn(n, m)\n",
    "\n",
    "rank = 100\n",
    "p = 20\n",
    "U, S, V = randomized_svd(A, rank, p)\n",
    "print(\"Error from randomized SVD\", np.linalg.norm(A - U[:, :rank] * S[None, :rank] @ V[:rank, :]))\n",
    "plt.semilogy(S[:rank] / S[0], label=\"Random SVD\")\n",
    "\n",
    "Uq, Sq, Vq = more_accurate_randomized_svd(A, rank, p, 5)\n",
    "print(\"Error from more accurate randomized SVD\", np.linalg.norm(A - Uq[:, :rank] * Sq[None, :rank] @ Vq[:rank, :]))\n",
    "plt.semilogy(Sq[:rank] / Sq[0], label=\"Accurate random SVD\")\n",
    "\n",
    "u, s, v = np.linalg.svd(A)\n",
    "print(\"Error from exact SVD\", np.linalg.norm(A - u[:, :rank] * s[None, :rank] @ v[:rank, :]))\n",
    "plt.semilogy(s[:rank] / s[0], label=\"Exact SVD\")\n",
    "plt.legend(fontsize=18)\n",
    "plt.xticks(fontsize=16)\n",
    "plt.yticks(fontsize=16)\n",
    "plt.ylabel(\"$\\sigma_i / \\sigma_0$\", fontsize=16)\n",
    "_ = plt.xlabel(\"Index of singular value\", fontsize=16)"
   ]
  },
  {
   "cell_type": "code",
   "execution_count": 126,
   "metadata": {
    "slideshow": {
     "slide_type": "slide"
    }
   },
   "outputs": [
    {
     "name": "stdout",
     "output_type": "stream",
     "text": [
      "9.05 ms ± 152 µs per loop (mean ± std. dev. of 7 runs, 100 loops each)\n",
      "1.4 ms ± 141 µs per loop (mean ± std. dev. of 7 runs, 1000 loops each)\n",
      "2.17 ms ± 22.7 µs per loop (mean ± std. dev. of 7 runs, 100 loops each)\n",
      "3.29 ms ± 97.6 µs per loop (mean ± std. dev. of 7 runs, 100 loops each)\n",
      "4.23 ms ± 55.9 µs per loop (mean ± std. dev. of 7 runs, 100 loops each)\n",
      "7.59 ms ± 309 µs per loop (mean ± std. dev. of 7 runs, 100 loops each)\n"
     ]
    }
   ],
   "source": [
    "%timeit spsplin.svds(A, k=k)\n",
    "%timeit fbpca.pca(A, k=k, raw=False)\n",
    "%timeit randomized_svd(A, k, p) \n",
    "%timeit more_accurate_randomized_svd(A, k, p, 1)\n",
    "%timeit more_accurate_randomized_svd(A, k, p, 2)\n",
    "%timeit more_accurate_randomized_svd(A, k, p, 5)"
   ]
  },
  {
   "cell_type": "markdown",
   "metadata": {
    "slideshow": {
     "slide_type": "slide"
    }
   },
   "source": [
    "### Теорема сходимости\n",
    "\n",
    "Представленный выше метод обеспечивает следующую верхнюю границу\n",
    "\n",
    "$$ \\mathbb{E}\\|A - QQ^{\\top}A \\|_2 \\leq \\left[\\left( 1 + \\sqrt{\\frac{k}{p-1}} \\right)\\sigma^{2q+1}_{k+1} + \\frac{e\\sqrt{k+p}}{p}\\left( \\sum_{j=k+1}^{\\min(m, n)} \\sigma^{2(2q+1)}_j \\right)^{1/2}\\right]^{1/(2q+1)} $$\n",
    "\n",
    "Рассмотрите наихудший случай, когда в данной матрице нет малоранговой структуры.\n",
    "\n",
    "**Q:** какова степень субоптимальности по сравнению с теоремой Экхарта-Янга? "
   ]
  },
  {
   "cell_type": "markdown",
   "metadata": {
    "slideshow": {
     "slide_type": "slide"
    }
   },
   "source": [
    "### Резюме по рандомизированному методу для вычисления SVD\n",
    "\n",
    "- Эффективный метод получения приближённого SVD\n",
    "- Простой в реализации\n",
    "- Его можно расширить до однопроходного метода, когда матрица $ A $ нужна только для построения $ Q $\n",
    "- Требуется только функция умножения данной матрицы на вектор"
   ]
  },
  {
   "cell_type": "markdown",
   "metadata": {
    "slideshow": {
     "slide_type": "slide"
    }
   },
   "source": [
    "## Метод Качмарча для решения линейных систем \n",
    "\n",
    "- Мы уже обсуждали как решать переопределённые линейные системы вида $Ax = f$ в смысле задачи наименьших квадратов\n",
    "    - псевдообратная матрица\n",
    "    - QR разложение\n",
    "- Другой подход основан на последовательном проектировании также известен как **метод Качмарча** или **техника алгебраического восстановления** в области вычислительной томографии\n",
    "- Вместо решения всех уравнений, выберем случайно одно\n",
    "\n",
    "$$a^{\\top}_i x = f_i,$$\n",
    "\n",
    "и при условии имеющейся аппроксимации $x_k$ найдём $x_{k+1}$ как решение следующей задачи оптимизации\n",
    "\n",
    "$$x_{k+1} = \\arg \\min_x \\frac12 \\Vert x - x_k \\Vert^2_2, \\quad \\mbox{s.t.} \\quad  a^{\\top}_i x = f_i.$$\n",
    "\n",
    "- Простой анализ даёт следующую формулу обновления \n",
    "\n",
    "$$x_{k+1} = x_k - \\frac{(a_i, x_k) - f_i}{(a_i, a_i)} a_i. $$\n",
    "\n",
    "- Такое вычисление следующей точки быстрое, однако анадлиз сходимости такого метода довольно непрост\n",
    "- Вы можете распознать в этом методе метод стохастического градиентного спуска с размером шага $\\frac{1}{\\|a_i\\|_2^2}$ для каждого сэмпла"
   ]
  },
  {
   "cell_type": "markdown",
   "metadata": {
    "slideshow": {
     "slide_type": "slide"
    }
   },
   "source": [
    "## Теорема сходимости\n",
    "\n",
    "- Предположим мы генерируем индекс строки $i$ из всех доступных строк в соответствии с распределением порождённым нормами строк матрицы, то есть $\\mathbb{P}[i = k] = \\frac{\\|a_k\\|_2^2}{\\| A \\|^2_F}$. Этот метод называется рандомизированны метод Качмарча (Randomized Kaczmarz method or RKM)\n",
    "- Почему стратегия сэмплирования важна?\n",
    "- Исследование наилучшего сэмплинга приведено [здаесь](https://scholar.harvard.edu/files/yuelu/files/randkac_globalsip14.pdf)\n",
    "- Если переопределённая система **совместна**, тогда\n",
    "\n",
    "$$ \\mathbb{E}[\\|x_{k+1} - x^*\\|^2_2] \\leq \\left(1 - \\frac{1}{\\kappa^2_F(A)}\\right) \\mathbb{E}[\\|x_{k} - x^*\\|^2_2], $$\n",
    "\n",
    "где $\\kappa_F(A) = \\frac{\\| A \\|_F}{\\sigma_{\\min}(A)}$ и $\\sigma_{\\min}(A)$ минимальное ненулевое сингулярное число матрицы $A$. Этот результат был получен в работе ([Strohmer and Vershynin, 2009](http://people.eecs.berkeley.edu/~brecht/cs294docs/week1/09.Strohmer.pdf))\n",
    "\n",
    "- Если переопределённая система **несовместна**, то\n",
    "\n",
    "$$ \\mathbb{E}[\\|x_{k+1} - x^*\\|^2_2] \\leq \\left(1 - \\frac{1}{\\kappa^2_F(A)}\\right) \\mathbb{E}[\\|x_{k} - x^*\\|^2_2] + \\frac{\\|r^*\\|_2^2}{\\| A \\|^2_F}, $$\n",
    "\n",
    "где $r^* = Ax^* - f$"
   ]
  },
  {
   "cell_type": "markdown",
   "metadata": {
    "slideshow": {
     "slide_type": "slide"
    }
   },
   "source": [
    "### Несовместные переопределённые линейные системы\n",
    "\n",
    "- В работе ([Needell, 2010](https://arxiv.org/pdf/0902.0958.pdf))  было показно, что RKM не сходится к точному решению $A^{\\dagger}f$\n",
    "- Для решения этой проблемы был предложен рандомизированный расширенный метод Качмарча (Randomized extended Kaczmarz method) в работе ([A Zouzias, N Freris, 2013](https://arxiv.org/pdf/1205.5770.pdf))\n",
    "- Основная идея – использовать два шага метода RKM:\n",
    "    - первый для системы $A^\\top z = 0$ начиная с $z_k$\n",
    "    \n",
    "    $$ z^{k+1} = z^{k} - \\frac{a^\\top_{:, j} z^k}{\\| a_{:, j} \\|_2^2}a_{:, j}  $$ \n",
    "    \n",
    "    - второй шаг для системы $Ax = f - z_{k+1}$ начиная с $x_k$\n",
    "    \n",
    "    $$x^{k+1} = x^k - \\frac{a_{i,:}x_k - f_i + z^{k+1}_i}{\\|a_{i,:}\\|_2^2}a^{\\top}_{i,:} $$\n",
    "    \n",
    "Здесь $a_{:, j}$ обозначает $j$-ый столбец $A$ и $a_{i, :}$ обозначает $i$-ую строку $A$\n",
    "\n",
    "- Если $z^0 \\in f + \\mathrm{range}(A)$ и $x^0 \\in \\mathrm{range}(A^\\top)$, тогда REK сходится линейно к $A^{\\dagger}f$ "
   ]
  },
  {
   "cell_type": "markdown",
   "metadata": {
    "slideshow": {
     "slide_type": "slide"
    }
   },
   "source": [
    "## Сэмплирование и сктечинг\n",
    "\n",
    "- Сэмплирование строки мподно рассматривать как частный случай более общего подхода под названием **скетчинг**\n",
    "- Идея: заменить матрицу $A$ другой матрицей $SA$, где $SA$ имеет существенно меньше строк, но сохраняют важные свойства исходной матрицы $A$\n",
    "- Возможные варианты:\n",
    "    - случайные проекции\n",
    "    - случайный выбор строк\n",
    "- Пример: линейная задача наименьших квадратов $\\|Ax - b\\|_2^2 \\to \\min_x$ превращается в $\\| (SA)y - Sb \\|_2^2 \\to \\min_y$ и мы ожидаем, что $x \\approx y$\n",
    "- Солвер [Blendenpick](https://pdos.csail.mit.edu/~petar/papers/blendenpik-v1.pdf) основан на этом подходе и превосходит функцию в LAPACK! \n",
    "- Более подробно можно посмотреть в книге [Sketching as a Tool for Numerical Linear Algebra](https://researcher.watson.ibm.com/researcher/files/us-dpwoodru/wNow3.pdf), D. Woodruff"
   ]
  },
  {
   "cell_type": "markdown",
   "metadata": {
    "slideshow": {
     "slide_type": "slide"
    }
   },
   "source": [
    "### Резюме по рандомизированным методам решения линейных систем\n",
    "\n",
    "- Простое в использовании семейство методов\n",
    "- Особенно полезно в задачах с потоковой передачей данных\n",
    "- Существуют теоретические границы сходимости\n",
    "- Различные интерпретации в разных областях (SGD в глубоком обучении, ART в компьютерной томографии)"
   ]
  },
  {
   "cell_type": "markdown",
   "metadata": {
    "slideshow": {
     "slide_type": "slide"
    }
   },
   "source": [
    "## Рандомизированное матричное умножение\n",
    "\n",
    "- Мы знаем, что сложность умножения матриц $AB$ равна $O(mnp)$ для матриц $m \\times p$ и $p \\times n$\n",
    "- Мы можем построить приближение этого произведения с помощью сэмплирования строк и столбцов сомножителей\n",
    "\n",
    "**Q:** как их сэмплировать?\n",
    "\n",
    "**A:** использовать вероятности пропорциональные нормам!\n",
    "\n",
    "- Итак, итоговое выражение для приближённого матричного умножения\n",
    "\n",
    "$$ AB \\approx \\sum_{t=1}^k \\frac{1}{kp_{i_t}} A^{(i_t)} B_{(i_t)}, $$\n",
    "\n",
    "где $A^{(i_t)}$ – столбец $A$ и $B_{(i_t)}$ – строка $B$\n",
    "\n",
    "- Снижение сложности с $O(mnp)$ до $O(mnk)$"
   ]
  },
  {
   "cell_type": "code",
   "execution_count": 174,
   "metadata": {
    "slideshow": {
     "slide_type": "slide"
    }
   },
   "outputs": [
    {
     "name": "stdout",
     "output_type": "stream",
     "text": [
      "0.7514219112352372\n",
      "1.496214137738649\n"
     ]
    }
   ],
   "source": [
    "import numpy as np\n",
    "\n",
    "n = 20\n",
    "p = 1000\n",
    "m = 20\n",
    "A = np.random.randn(n, p)\n",
    "B = np.random.randn(p, m)\n",
    "C = A @ B\n",
    "\n",
    "def randomized_matmul(A, B, k):\n",
    "    p = np.linalg.norm(A, axis=0) * np.linalg.norm(B, axis=1)\n",
    "    p = p.ravel() / p.sum()\n",
    "    n = A.shape[1]\n",
    "    idx = np.random.choice(np.arange(n), (k,), False, p)\n",
    "    d = 1 / np.sqrt(k * p[idx])\n",
    "    A_sketched = A[:, idx] * d[None, :]\n",
    "    B_sketched = B[idx, :] * d[:, None]\n",
    "    C = A_sketched @ B_sketched\n",
    "    return C\n",
    "\n",
    "def randomized_matmul_topk(A, B, K):\n",
    "    \n",
    "    norm_mult = np.linalg.norm(A,axis=0) * np.linalg.norm(B,axis=1)\n",
    "    top_k_idx = np.sort(np.argsort(norm_mult)[::-1][:K])\n",
    "    \n",
    "    A_top_k_cols = A[:, top_k_idx]\n",
    "    B_top_k_rows = B[top_k_idx, :]\n",
    "\n",
    "    C_approx = A_top_k_cols @ B_top_k_rows\n",
    "    return C_approx\n",
    "\n",
    "num_items = 300\n",
    "C_appr_samples = randomized_matmul(A, B, num_items)\n",
    "C_appr_topk = randomized_matmul_topk(A, B, num_items)\n",
    "print(np.linalg.norm(C_appr_topk - C) / np.linalg.norm(C))\n",
    "print(np.linalg.norm(C_appr_samples - C) / np.linalg.norm(C))"
   ]
  },
  {
   "cell_type": "markdown",
   "metadata": {
    "slideshow": {
     "slide_type": "slide"
    }
   },
   "source": [
    "## Ошибка аппроксимации\n",
    "\n",
    "$$\\mathbb {E} [\\| AB - CR \\|^2_F] = \\frac {1} {k} \\left (\\sum_ {i = 1} ^ n \\| A ^ {(i)} \\| _2 \\| B_{(i)} \\|_2 \\right)^2 - \\frac {1} {k} \\| AB \\|_F ^ 2 $$\n",
    "\n",
    "- Возможны другие способы выбора вероятностей\n",
    "- Используя приближение\n",
    "\n",
    "$$ AB \\approx ASD (SD)^\\top B = ACC^{\\top} B $$\n",
    "\n",
    "можно заменить сэмплирование и шкалирование другой матрицей, которая\n",
    "\n",
    "- снижает размерность\n",
    "- достаточно точно аппроксимирует\n",
    "\n",
    "**Q:** какие матрицы можно использовать?"
   ]
  },
  {
   "cell_type": "markdown",
   "metadata": {
    "slideshow": {
     "slide_type": "slide"
    }
   },
   "source": [
    "### Резюме по методам приближённого вычисления матричного произведения\n",
    "\n",
    "- Простой способ получить приблизительный результат\n",
    "- Можно использовать, если не важна высокая точность\n",
    "- Особенно полезно для больших плотных матриц."
   ]
  },
  {
   "cell_type": "markdown",
   "metadata": {
    "slideshow": {
     "slide_type": "slide"
    }
   },
   "source": [
    "## Резюме\n",
    "\n",
    "- Матричная функция: матричная экспонента, методы для её вычисления, другие матричные функции\n",
    "- Рациональные пространства Крылова\n",
    "- Рандомизированный метод вычисления SVD и другие примеры рандомизированных методов в вычислительной линейной алгебре"
   ]
  },
  {
   "cell_type": "code",
   "execution_count": 21,
   "metadata": {
    "slideshow": {
     "slide_type": "skip"
    }
   },
   "outputs": [
    {
     "data": {
      "text/html": [
       "<link href='http://fonts.googleapis.com/css?family=Fenix' rel='stylesheet' type='text/css'>\n",
       "<link href='http://fonts.googleapis.com/css?family=Alegreya+Sans:100,300,400,500,700,800,900,100italic,300italic,400italic,500italic,700italic,800italic,900italic' rel='stylesheet' type='text/css'>\n",
       "<link href='http://fonts.googleapis.com/css?family=Source+Code+Pro:300,400' rel='stylesheet' type='text/css'>\n",
       "<style>\n",
       "    @font-face {\n",
       "        font-family: \"Computer Modern\";\n",
       "        src: url('http://mirrors.ctan.org/fonts/cm-unicode/fonts/otf/cmunss.otf');\n",
       "    }\n",
       "    div.cell{\n",
       "        /*width:80%;*/\n",
       "        /*margin-left:auto !important;\n",
       "        margin-right:auto;*/\n",
       "    }\n",
       "    h1 {\n",
       "        font-family: 'Alegreya Sans', sans-serif;\n",
       "    }\n",
       "    h2 {\n",
       "        font-family: 'Fenix', serif;\n",
       "    }\n",
       "    h3{\n",
       "\t\tfont-family: 'Fenix', serif;\n",
       "        margin-top:12px;\n",
       "        margin-bottom: 3px;\n",
       "       }\n",
       "\th4{\n",
       "\t\tfont-family: 'Fenix', serif;\n",
       "       }\n",
       "    h5 {\n",
       "        font-family: 'Alegreya Sans', sans-serif;\n",
       "    }\t   \n",
       "    div.text_cell_render{\n",
       "        font-family: 'Alegreya Sans',Computer Modern, \"Helvetica Neue\", Arial, Helvetica, Geneva, sans-serif;\n",
       "        line-height: 1.2;\n",
       "        font-size: 120%;\n",
       "        /*width:70%;*/\n",
       "        /*margin-left:auto;*/\n",
       "        margin-right:auto;\n",
       "    }\n",
       "    .CodeMirror{\n",
       "            font-family: \"Source Code Pro\";\n",
       "\t\t\tfont-size: 90%;\n",
       "    }\n",
       "/*    .prompt{\n",
       "        display: None;\n",
       "    }*/\n",
       "    .text_cell_render h1 {\n",
       "        font-weight: 200;\n",
       "        font-size: 50pt;\n",
       "\t\tline-height: 110%;\n",
       "        color:#CD2305;\n",
       "        margin-bottom: 0.5em;\n",
       "        margin-top: 0.5em;\n",
       "        display: block;\n",
       "    }\t\n",
       "    .text_cell_render h5 {\n",
       "        font-weight: 300;\n",
       "        font-size: 16pt;\n",
       "        color: #CD2305;\n",
       "        font-style: italic;\n",
       "        margin-bottom: .5em;\n",
       "        margin-top: 0.5em;\n",
       "        display: block;\n",
       "    }\n",
       "    \n",
       "    li {\n",
       "        line-height: 110%;\n",
       "    }\n",
       "    .warning{\n",
       "        color: rgb( 240, 20, 20 )\n",
       "        }  \n",
       "\n",
       "</style>\n",
       "\n",
       "<script>\n",
       "    MathJax.Hub.Config({\n",
       "                        TeX: {\n",
       "                           extensions: [\"AMSmath.js\"]\n",
       "                           },\n",
       "                tex2jax: {\n",
       "                    inlineMath: [ ['$','$'], [\"\\\\(\",\"\\\\)\"] ],\n",
       "                    displayMath: [ ['$$','$$'], [\"\\\\[\",\"\\\\]\"] ]\n",
       "                },\n",
       "                displayAlign: 'center', // Change this to 'center' to center equations.\n",
       "                \"HTML-CSS\": {\n",
       "                    styles: {'.MathJax_Display': {\"margin\": 4}}\n",
       "                }\n",
       "        });\n",
       "</script>\n"
      ],
      "text/plain": [
       "<IPython.core.display.HTML object>"
      ]
     },
     "execution_count": 21,
     "metadata": {},
     "output_type": "execute_result"
    }
   ],
   "source": [
    "from IPython.core.display import HTML\n",
    "def css_styling():\n",
    "    styles = open(\"./styles/custom.css\", \"r\").read()\n",
    "    return HTML(styles)\n",
    "css_styling()"
   ]
  }
 ],
 "metadata": {
  "anaconda-cloud": {},
  "celltoolbar": "Slideshow",
  "kernelspec": {
   "display_name": "Python 3 (ipykernel)",
   "language": "python",
   "name": "python3"
  },
  "language_info": {
   "codemirror_mode": {
    "name": "ipython",
    "version": 3
   },
   "file_extension": ".py",
   "mimetype": "text/x-python",
   "name": "python",
   "nbconvert_exporter": "python",
   "pygments_lexer": "ipython3",
   "version": "3.9.13"
  },
  "nav_menu": {},
  "toc": {
   "navigate_menu": true,
   "number_sections": false,
   "sideBar": true,
   "threshold": 6,
   "toc_cell": false,
   "toc_section_display": "block",
   "toc_window_display": false
  }
 },
 "nbformat": 4,
 "nbformat_minor": 1
}
